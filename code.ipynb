{
 "cells": [
  {
   "cell_type": "code",
   "execution_count": 2,
   "metadata": {},
   "outputs": [],
   "source": [
    "import arcgis\n",
    "from arcgis import GIS\n",
    "from arcgis.geometry import Point\n",
    "from arcgis.geometry import Geometry\n",
    "import pandas as pd\n",
    "import json"
   ]
  },
  {
   "cell_type": "code",
   "execution_count": 3,
   "metadata": {},
   "outputs": [],
   "source": [
    "# Load data\n",
    "data = pd.read_csv(\"data.csv\")"
   ]
  },
  {
   "cell_type": "code",
   "execution_count": 4,
   "metadata": {},
   "outputs": [],
   "source": [
    "# Object gis for autentication\n",
    "gis = GIS(\"https://www.arcgis.com\", \"danndch\", \"046Aebf2!7709\")"
   ]
  },
  {
   "cell_type": "code",
   "execution_count": null,
   "metadata": {},
   "outputs": [],
   "source": [
    "# Create a list to hold features\n",
    "features = []"
   ]
  },
  {
   "cell_type": "code",
   "execution_count": null,
   "metadata": {},
   "outputs": [],
   "source": [
    "# Iterate over each row in the DataFrame\n",
    "for _, row in data.iterrows():\n",
    "    # Create a dictionary to hold feature attributes\n",
    "    attributes = {\n",
    "        \"neighborhood_name\": row[\"neighborhood_name\"],\n",
    "        \"population\": row[\"population\"],\n",
    "        \"year\": row[\"year\"]\n",
    "    }\n",
    "    \n",
    "    # Create a Point geometry\n",
    "    geometry = Geometry(\n",
    "        {\n",
    "            \"x\": row[\"longitude\"],\n",
    "            \"y\": row[\"latitude\"],\n",
    "            \"spatialReference\": {\"wkid\": 4326}\n",
    "        }\n",
    "    )\n",
    "    \n",
    "    # Create a feature dictionary\n",
    "    feature = {\n",
    "        \"attributes\": attributes,\n",
    "        \"geometry\": geometry\n",
    "    }\n",
    "    \n",
    "    # Append the feature to the list\n",
    "    features.append(feature)\n"
   ]
  },
  {
   "cell_type": "code",
   "execution_count": null,
   "metadata": {},
   "outputs": [],
   "source": [
    "# Create a feature collection\n",
    "feature_collection = {\n",
    "    \"featureCollection\": {\n",
    "        \"layers\": [\n",
    "            {\n",
    "                \"layerDefinition\": {\n",
    "                    \"geometryType\": \"esriGeometryPoint\",\n",
    "                    \"objectIdField\": \"OBJECTID\",\n",
    "                    \"fields\": [\n",
    "                        {\n",
    "                            \"name\": \"neighborhood_name\",\n",
    "                            \"type\": \"esriFieldTypeString\",\n",
    "                            \"alias\": \"Neighborhood Name\"\n",
    "                        },\n",
    "                        {\n",
    "                            \"name\": \"population\",\n",
    "                            \"type\": \"esriFieldTypeInteger\",\n",
    "                            \"alias\": \"Population\"\n",
    "                        },\n",
    "                        {\n",
    "                            \"name\": \"year\",\n",
    "                            \"type\": \"esriFieldTypeInteger\",\n",
    "                            \"alias\": \"Year\"\n",
    "                        }\n",
    "                    ]\n",
    "                },\n",
    "                \"featureSet\": {\n",
    "                    \"features\": features,\n",
    "                    \"geometryType\": \"esriGeometryPoint\"\n",
    "                }\n",
    "            }\n",
    "        ]\n",
    "    }\n",
    "}\n"
   ]
  },
  {
   "cell_type": "code",
   "execution_count": null,
   "metadata": {},
   "outputs": [],
   "source": [
    "# Convert feature_collection to JSON string\n",
    "feature_collection_json = json.dumps(feature_collection)\n"
   ]
  },
  {
   "cell_type": "code",
   "execution_count": null,
   "metadata": {},
   "outputs": [],
   "source": [
    "# Publish the feature collection as a hosted feature layer\n",
    "item_properties = {\n",
    "    \"title\": \"Neighborhoods\",\n",
    "    \"text\": \"Neighborhoods Feature Layer\",\n",
    "    \"type\": \"Feature Collection\",\n",
    "    \"tags\": \"neighborhoods, data\"\n",
    "}\n",
    "item = gis.content.add(item_properties, data=feature_collection_json)\n",
    "feature_layer = item.publish()"
   ]
  },
  {
   "cell_type": "code",
   "execution_count": null,
   "metadata": {},
   "outputs": [],
   "source": [
    "# Visualize the feature layer on a map\n",
    "map = gis.map(\"Alaska\")\n",
    "map.add_layer(feature_layer)\n",
    "map"
   ]
  }
 ],
 "metadata": {
  "kernelspec": {
   "display_name": "Python 3",
   "language": "python",
   "name": "python3"
  },
  "language_info": {
   "codemirror_mode": {
    "name": "ipython",
    "version": 3
   },
   "file_extension": ".py",
   "mimetype": "text/x-python",
   "name": "python",
   "nbconvert_exporter": "python",
   "pygments_lexer": "ipython3",
   "version": "3.10.11"
  },
  "orig_nbformat": 4
 },
 "nbformat": 4,
 "nbformat_minor": 2
}
